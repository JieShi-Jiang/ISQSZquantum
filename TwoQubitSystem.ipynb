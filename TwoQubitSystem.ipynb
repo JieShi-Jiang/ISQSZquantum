{
 "cells": [
  {
   "cell_type": "code",
   "execution_count": 16,
   "metadata": {},
   "outputs": [],
   "source": [
    "import numpy as np\n",
    "import qiskit.pulse as pulse\n",
    "from qiskit.quantum_info.operators import Operator, Pauli\n",
    "from qiskit_dynamics import Solver\n",
    "from matplotlib import pyplot as plt\n",
    "from qiskit_dynamics.pulse import InstructionToSignals\n",
    "from qiskit.quantum_info.states import Statevector\n",
    "from scipy.integrate import cumulative_trapezoid"
   ]
  },
  {
   "cell_type": "code",
   "execution_count": null,
   "metadata": {},
   "outputs": [],
   "source": [
    "'''\n",
    "#Configure to use JAX internally\n",
    "import jax\n",
    "jax.config.update(\"jax_enable_x64\", True)\n",
    "jax.config.update(\"jax_platform_name\", \"cpu\")\n",
    "from qiskit_dynamics.array import Array\n",
    "Array.set_default_backend(\"jax\")\n",
    "'''"
   ]
  },
  {
   "attachments": {},
   "cell_type": "markdown",
   "metadata": {},
   "source": [
    "这份文件的目标是实现双比特门操作。$H=\\frac{1}{2}(\\omega_1\\sigma_{z,1}+\\omega_2\\sigma_{z,2})+g\\sigma_{y,1}\\sigma_{y,2}$"
   ]
  },
  {
   "cell_type": "code",
   "execution_count": 62,
   "metadata": {},
   "outputs": [
    {
     "ename": "LinAlgError",
     "evalue": "Singular matrix",
     "output_type": "error",
     "traceback": [
      "\u001b[1;31m---------------------------------------------------------------------------\u001b[0m",
      "\u001b[1;31mLinAlgError\u001b[0m                               Traceback (most recent call last)",
      "\u001b[1;32md:\\Desktop\\QC\\ISQSZ\\qiskit\\实现的代码\\TwoQubitSystem.ipynb 单元格 4\u001b[0m in \u001b[0;36m<cell line: 15>\u001b[1;34m()\u001b[0m\n\u001b[0;32m     <a href='vscode-notebook-cell:/d%3A/Desktop/QC/ISQSZ/qiskit/%E5%AE%9E%E7%8E%B0%E7%9A%84%E4%BB%A3%E7%A0%81/TwoQubitSystem.ipynb#X12sZmlsZQ%3D%3D?line=12'>13</a>\u001b[0m zeros \u001b[39m=\u001b[39m Operator(np\u001b[39m.\u001b[39mzeros((\u001b[39m2\u001b[39m \u001b[39m*\u001b[39m\u001b[39m*\u001b[39m N, \u001b[39m2\u001b[39m \u001b[39m*\u001b[39m\u001b[39m*\u001b[39m N)))\n\u001b[0;32m     <a href='vscode-notebook-cell:/d%3A/Desktop/QC/ISQSZ/qiskit/%E5%AE%9E%E7%8E%B0%E7%9A%84%E4%BB%A3%E7%A0%81/TwoQubitSystem.ipynb#X12sZmlsZQ%3D%3D?line=13'>14</a>\u001b[0m X \u001b[39m=\u001b[39m np\u001b[39m.\u001b[39marray([[\u001b[39m1\u001b[39m,\u001b[39m1\u001b[39m,\u001b[39m0\u001b[39m],[\u001b[39m-\u001b[39m\u001b[39m1\u001b[39m,\u001b[39m0\u001b[39m,\u001b[39m1\u001b[39m],[\u001b[39m0\u001b[39m,\u001b[39m-\u001b[39m\u001b[39m1\u001b[39m,\u001b[39m-\u001b[39m\u001b[39m1\u001b[39m]])\n\u001b[1;32m---> <a href='vscode-notebook-cell:/d%3A/Desktop/QC/ISQSZ/qiskit/%E5%AE%9E%E7%8E%B0%E7%9A%84%E4%BB%A3%E7%A0%81/TwoQubitSystem.ipynb#X12sZmlsZQ%3D%3D?line=14'>15</a>\u001b[0m \u001b[39mprint\u001b[39m(np\u001b[39m.\u001b[39;49mlinalg\u001b[39m.\u001b[39;49minv(X))\n",
      "File \u001b[1;32m<__array_function__ internals>:5\u001b[0m, in \u001b[0;36minv\u001b[1;34m(*args, **kwargs)\u001b[0m\n",
      "File \u001b[1;32md:\\Python\\lib\\site-packages\\numpy\\linalg\\linalg.py:545\u001b[0m, in \u001b[0;36minv\u001b[1;34m(a)\u001b[0m\n\u001b[0;32m    543\u001b[0m signature \u001b[39m=\u001b[39m \u001b[39m'\u001b[39m\u001b[39mD->D\u001b[39m\u001b[39m'\u001b[39m \u001b[39mif\u001b[39;00m isComplexType(t) \u001b[39melse\u001b[39;00m \u001b[39m'\u001b[39m\u001b[39md->d\u001b[39m\u001b[39m'\u001b[39m\n\u001b[0;32m    544\u001b[0m extobj \u001b[39m=\u001b[39m get_linalg_error_extobj(_raise_linalgerror_singular)\n\u001b[1;32m--> 545\u001b[0m ainv \u001b[39m=\u001b[39m _umath_linalg\u001b[39m.\u001b[39;49minv(a, signature\u001b[39m=\u001b[39;49msignature, extobj\u001b[39m=\u001b[39;49mextobj)\n\u001b[0;32m    546\u001b[0m \u001b[39mreturn\u001b[39;00m wrap(ainv\u001b[39m.\u001b[39mastype(result_t, copy\u001b[39m=\u001b[39m\u001b[39mFalse\u001b[39;00m))\n",
      "File \u001b[1;32md:\\Python\\lib\\site-packages\\numpy\\linalg\\linalg.py:88\u001b[0m, in \u001b[0;36m_raise_linalgerror_singular\u001b[1;34m(err, flag)\u001b[0m\n\u001b[0;32m     87\u001b[0m \u001b[39mdef\u001b[39;00m \u001b[39m_raise_linalgerror_singular\u001b[39m(err, flag):\n\u001b[1;32m---> 88\u001b[0m     \u001b[39mraise\u001b[39;00m LinAlgError(\u001b[39m\"\u001b[39m\u001b[39mSingular matrix\u001b[39m\u001b[39m\"\u001b[39m)\n",
      "\u001b[1;31mLinAlgError\u001b[0m: Singular matrix"
     ]
    }
   ],
   "source": [
    "import numpy as np\n",
    "\n",
    "dim = 3\n",
    "\n",
    "v0 = 4.86e9\n",
    "anharm0 = -0.32e9\n",
    "r0 = 0.22e9\n",
    "\n",
    "v1 = 4.97e9\n",
    "anharm1 = -0.32e9\n",
    "r1 = 0.26e9\n",
    "\n",
    "J = 0.002e9\n",
    "\n",
    "a = np.diag(np.sqrt(np.arange(1, dim)), 1)\n",
    "adag = np.diag(np.sqrt(np.arange(1, dim)), -1)\n",
    "N = np.diag(np.arange(dim))\n",
    "\n",
    "ident = np.eye(dim, dtype=complex)\n",
    "full_ident = np.eye(dim**2, dtype=complex)\n",
    "\n",
    "N0 = np.kron(ident, N)\n",
    "N1 = np.kron(N, ident)\n",
    "\n",
    "a0 = np.kron(ident, a)\n",
    "a1 = np.kron(a, ident)\n",
    "\n",
    "a0dag = np.kron(ident, adag)\n",
    "a1dag = np.kron(adag, ident)\n",
    "\n",
    "\n",
    "static_ham0 = 2 * np.pi * v0 * N0 + np.pi * anharm0 * N0 * (N0 - full_ident)\n",
    "static_ham1 = 2 * np.pi * v1 * N1 + np.pi * anharm1 * N1 * (N1 - full_ident)\n",
    "\n",
    "static_ham_full = static_ham0 + static_ham1 + 2 * np.pi * J * ((a0 + a0dag) @ (a1 + a1dag))\n",
    "\n",
    "drive_op0 = 2 * np.pi * r0 * (a0 + a0dag)\n",
    "drive_op1 = 2 * np.pi * r1 * (a1 + a1dag)"
   ]
  },
  {
   "cell_type": "code",
   "execution_count": null,
   "metadata": {},
   "outputs": [],
   "source": []
  },
  {
   "cell_type": "code",
   "execution_count": 53,
   "metadata": {},
   "outputs": [
    {
     "ename": "TypeError",
     "evalue": "object of type 'Operator' has no len()",
     "output_type": "error",
     "traceback": [
      "\u001b[1;31m---------------------------------------------------------------------------\u001b[0m",
      "\u001b[1;31mTypeError\u001b[0m                                 Traceback (most recent call last)",
      "\u001b[1;32md:\\Desktop\\QC\\ISQSZ\\qiskit\\实现的代码\\TwoQubitSystem.ipynb 单元格 5\u001b[0m in \u001b[0;36m<cell line: 1>\u001b[1;34m()\u001b[0m\n\u001b[1;32m----> <a href='vscode-notebook-cell:/d%3A/Desktop/QC/ISQSZ/qiskit/%E5%AE%9E%E7%8E%B0%E7%9A%84%E4%BB%A3%E7%A0%81/TwoQubitSystem.ipynb#X14sZmlsZQ%3D%3D?line=0'>1</a>\u001b[0m hamiltonian_solver \u001b[39m=\u001b[39m Solver(\n\u001b[0;32m      <a href='vscode-notebook-cell:/d%3A/Desktop/QC/ISQSZ/qiskit/%E5%AE%9E%E7%8E%B0%E7%9A%84%E4%BB%A3%E7%A0%81/TwoQubitSystem.ipynb#X14sZmlsZQ%3D%3D?line=1'>2</a>\u001b[0m     static_hamiltonian\u001b[39m=\u001b[39;49mH0,\n\u001b[0;32m      <a href='vscode-notebook-cell:/d%3A/Desktop/QC/ISQSZ/qiskit/%E5%AE%9E%E7%8E%B0%E7%9A%84%E4%BB%A3%E7%A0%81/TwoQubitSystem.ipynb#X14sZmlsZQ%3D%3D?line=2'>3</a>\u001b[0m     hamiltonian_operators\u001b[39m=\u001b[39;49mHd,\n\u001b[0;32m      <a href='vscode-notebook-cell:/d%3A/Desktop/QC/ISQSZ/qiskit/%E5%AE%9E%E7%8E%B0%E7%9A%84%E4%BB%A3%E7%A0%81/TwoQubitSystem.ipynb#X14sZmlsZQ%3D%3D?line=3'>4</a>\u001b[0m     rotating_frame\u001b[39m=\u001b[39;49mH0,\n\u001b[0;32m      <a href='vscode-notebook-cell:/d%3A/Desktop/QC/ISQSZ/qiskit/%E5%AE%9E%E7%8E%B0%E7%9A%84%E4%BB%A3%E7%A0%81/TwoQubitSystem.ipynb#X14sZmlsZQ%3D%3D?line=4'>5</a>\u001b[0m     rwa_cutoff_freq\u001b[39m=\u001b[39;49m\u001b[39m2\u001b[39;49m\u001b[39m*\u001b[39;49mw,\n\u001b[0;32m      <a href='vscode-notebook-cell:/d%3A/Desktop/QC/ISQSZ/qiskit/%E5%AE%9E%E7%8E%B0%E7%9A%84%E4%BB%A3%E7%A0%81/TwoQubitSystem.ipynb#X14sZmlsZQ%3D%3D?line=5'>6</a>\u001b[0m     hamiltonian_channels\u001b[39m=\u001b[39;49m[\u001b[39m'\u001b[39;49m\u001b[39md0\u001b[39;49m\u001b[39m'\u001b[39;49m,\u001b[39m'\u001b[39;49m\u001b[39md1\u001b[39;49m\u001b[39m'\u001b[39;49m],\n\u001b[0;32m      <a href='vscode-notebook-cell:/d%3A/Desktop/QC/ISQSZ/qiskit/%E5%AE%9E%E7%8E%B0%E7%9A%84%E4%BB%A3%E7%A0%81/TwoQubitSystem.ipynb#X14sZmlsZQ%3D%3D?line=6'>7</a>\u001b[0m     channel_carrier_freqs\u001b[39m=\u001b[39;49m{\u001b[39m'\u001b[39;49m\u001b[39md0\u001b[39;49m\u001b[39m'\u001b[39;49m: w,\u001b[39m'\u001b[39;49m\u001b[39md1\u001b[39;49m\u001b[39m'\u001b[39;49m: w},\n\u001b[0;32m      <a href='vscode-notebook-cell:/d%3A/Desktop/QC/ISQSZ/qiskit/%E5%AE%9E%E7%8E%B0%E7%9A%84%E4%BB%A3%E7%A0%81/TwoQubitSystem.ipynb#X14sZmlsZQ%3D%3D?line=7'>8</a>\u001b[0m     dt\u001b[39m=\u001b[39;49mdt\n\u001b[0;32m      <a href='vscode-notebook-cell:/d%3A/Desktop/QC/ISQSZ/qiskit/%E5%AE%9E%E7%8E%B0%E7%9A%84%E4%BB%A3%E7%A0%81/TwoQubitSystem.ipynb#X14sZmlsZQ%3D%3D?line=8'>9</a>\u001b[0m )\n",
      "File \u001b[1;32md:\\Python\\lib\\site-packages\\qiskit_dynamics\\solvers\\solver_classes.py:253\u001b[0m, in \u001b[0;36mSolver.__init__\u001b[1;34m(self, static_hamiltonian, hamiltonian_operators, static_dissipators, dissipator_operators, hamiltonian_channels, dissipator_channels, channel_carrier_freqs, dt, rotating_frame, in_frame_basis, evaluation_mode, rwa_cutoff_freq, rwa_carrier_freqs, validate)\u001b[0m\n\u001b[0;32m    251\u001b[0m \u001b[39mif\u001b[39;00m hamiltonian_channels \u001b[39mis\u001b[39;00m \u001b[39mnot\u001b[39;00m \u001b[39mNone\u001b[39;00m:\n\u001b[0;32m    252\u001b[0m     hamiltonian_channels \u001b[39m=\u001b[39m [chan\u001b[39m.\u001b[39mlower() \u001b[39mfor\u001b[39;00m chan \u001b[39min\u001b[39;00m hamiltonian_channels]\n\u001b[1;32m--> 253\u001b[0m     \u001b[39mif\u001b[39;00m hamiltonian_operators \u001b[39mis\u001b[39;00m \u001b[39mNone\u001b[39;00m \u001b[39mor\u001b[39;00m \u001b[39mlen\u001b[39;49m(hamiltonian_operators) \u001b[39m!=\u001b[39m \u001b[39mlen\u001b[39m(\n\u001b[0;32m    254\u001b[0m         hamiltonian_channels\n\u001b[0;32m    255\u001b[0m     ):\n\u001b[0;32m    256\u001b[0m         \u001b[39mraise\u001b[39;00m QiskitError(\n\u001b[0;32m    257\u001b[0m             \u001b[39m\"\"\"hamiltonian_channels must have same length as hamiltonian_operators\"\"\"\u001b[39;00m\n\u001b[0;32m    258\u001b[0m         )\n\u001b[0;32m    259\u001b[0m     \u001b[39mfor\u001b[39;00m chan \u001b[39min\u001b[39;00m hamiltonian_channels:\n",
      "\u001b[1;31mTypeError\u001b[0m: object of type 'Operator' has no len()"
     ]
    }
   ],
   "source": [
    "from qiskit_dynamics import Solver\n",
    "\n",
    "# build solver\n",
    "dt = 1/4.5e9\n",
    "\n",
    "solver = Solver(\n",
    "    static_hamiltonian=static_ham_full,\n",
    "    hamiltonian_operators=[drive_op0, drive_op1, drive_op0, drive_op1],\n",
    "    rotating_frame=static_ham_full,\n",
    "    hamiltonian_channels=[\"d0\", \"d1\", \"u0\", \"u1\"],\n",
    "    channel_carrier_freqs={\"d0\": v0, \"d1\": v1, \"u0\": v1, \"u1\": v0},\n",
    "    dt=dt,\n",
    ")\n",
    "\n",
    "%time sol = hamiltonian_solver.solve(t_span=[0., 2*T], y0=y0, signals=signal, atol=1e-8, rtol=1e-8)"
   ]
  }
 ],
 "metadata": {
  "kernelspec": {
   "display_name": "Python 3",
   "language": "python",
   "name": "python3"
  },
  "language_info": {
   "codemirror_mode": {
    "name": "ipython",
    "version": 3
   },
   "file_extension": ".py",
   "mimetype": "text/x-python",
   "name": "python",
   "nbconvert_exporter": "python",
   "pygments_lexer": "ipython3",
   "version": "3.9.1"
  },
  "orig_nbformat": 4
 },
 "nbformat": 4,
 "nbformat_minor": 2
}
